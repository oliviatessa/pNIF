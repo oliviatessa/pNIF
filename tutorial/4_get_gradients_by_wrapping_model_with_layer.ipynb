{
 "cells": [
  {
   "cell_type": "code",
   "execution_count": 1,
   "metadata": {
    "colab": {
     "base_uri": "https://localhost:8080/"
    },
    "id": "XDoIbsKzURJq",
    "outputId": "797ab1d3-7edb-4a3c-ccd7-ae8de9ee97cf"
   },
   "outputs": [
    {
     "name": "stdout",
     "output_type": "stream",
     "text": [
      "WARNING: pip is being invoked by an old script wrapper. This will fail in a future version of pip.\n",
      "Please see https://github.com/pypa/pip/issues/5599 for advice on fixing the underlying issue.\n",
      "To avoid this problem you can invoke Python with '-m pip' instead of running pip directly.\n",
      "Defaulting to user installation because normal site-packages is not writeable\n",
      "Collecting git+https://github.com/pswpswpsw/nif.git\n",
      "  Cloning https://github.com/pswpswpsw/nif.git to /tmp/pip-req-build-yy5wm7sc\n",
      "  Running command git clone -q https://github.com/pswpswpsw/nif.git /tmp/pip-req-build-yy5wm7sc\n",
      "  Resolved https://github.com/pswpswpsw/nif.git to commit 2f3000eb938a8c8ee64163affe76d6e52dc059a9\n",
      "Requirement already satisfied: matplotlib in /home/shaowu/.local/lib/python3.6/site-packages (from NIF==1.0.0) (3.2.2)\n",
      "Requirement already satisfied: numpy in /home/shaowu/.local/lib/python3.6/site-packages (from NIF==1.0.0) (1.19.5)\n",
      "Requirement already satisfied: pyparsing!=2.0.4,!=2.1.2,!=2.1.6,>=2.0.1 in /home/shaowu/.local/lib/python3.6/site-packages (from matplotlib->NIF==1.0.0) (2.4.7)\n",
      "Requirement already satisfied: cycler>=0.10 in /home/shaowu/.local/lib/python3.6/site-packages (from matplotlib->NIF==1.0.0) (0.10.0)\n",
      "Requirement already satisfied: python-dateutil>=2.1 in /home/shaowu/.local/lib/python3.6/site-packages (from matplotlib->NIF==1.0.0) (2.8.1)\n",
      "Requirement already satisfied: kiwisolver>=1.0.1 in /home/shaowu/.local/lib/python3.6/site-packages (from matplotlib->NIF==1.0.0) (1.2.0)\n",
      "Requirement already satisfied: six in /home/shaowu/.local/lib/python3.6/site-packages (from cycler>=0.10->matplotlib->NIF==1.0.0) (1.15.0)\n",
      "\u001B[33mWARNING: You are using pip version 21.2.3; however, version 21.3.1 is available.\n",
      "You should consider upgrading via the '/opt/intel/intelpython3/bin/python -m pip install --upgrade pip' command.\u001B[0m\n"
     ]
    }
   ],
   "source": [
    "!pip install git+https://github.com/pswpswpsw/nif.git"
   ]
  },
  {
   "cell_type": "code",
   "execution_count": 2,
   "metadata": {},
   "outputs": [],
   "source": [
    "import tensorflow as tf\n",
    "import nif"
   ]
  },
  {
   "cell_type": "markdown",
   "metadata": {},
   "source": [
    "# How to get the gradients: dy/dx?\n",
    "\n",
    "- Note: \n",
    "    - since we wrap up everything in keras.Model, we want to keep things as simple as possible as well for getting the gradient"
   ]
  },
  {
   "cell_type": "markdown",
   "metadata": {},
   "source": [
    "## Construct a keras.Model "
   ]
  },
  {
   "cell_type": "code",
   "execution_count": 3,
   "metadata": {
    "id": "Vx__GYjvVbcY",
    "pycharm": {
     "name": "#%%\n"
    }
   },
   "outputs": [],
   "source": [
    "x = tf.keras.Input(4,)\n",
    "l1 = tf.keras.layers.Dense(5, activation='tanh')\n",
    "model = tf.keras.Model([x], [l1(x)])"
   ]
  },
  {
   "cell_type": "markdown",
   "metadata": {},
   "source": [
    "## Import `JacobianLayer` and `HessianLayer`"
   ]
  },
  {
   "cell_type": "code",
   "execution_count": 4,
   "metadata": {},
   "outputs": [],
   "source": [
    "from nif.layers import JacobianLayer, HessianLayer"
   ]
  },
  {
   "cell_type": "markdown",
   "metadata": {},
   "source": [
    "## You can also decide what indices of both output $y$ and input $x$ that you want to get the gradients on\n",
    "\n",
    "- here you define them as `y_index` and `x_index`"
   ]
  },
  {
   "cell_type": "code",
   "execution_count": 5,
   "metadata": {},
   "outputs": [],
   "source": [
    "x_index = [0,1,2,3]\n",
    "y_index = [0,1,2,3,4]"
   ]
  },
  {
   "cell_type": "markdown",
   "metadata": {},
   "source": [
    "## Now we can use `nif.layers.JacobianLayer` to **wrap** up the `keras.Model` "
   ]
  },
  {
   "cell_type": "code",
   "execution_count": 6,
   "metadata": {},
   "outputs": [],
   "source": [
    "y_and_dydx_layer = JacobianLayer(model, y_index,x_index)"
   ]
  },
  {
   "cell_type": "markdown",
   "metadata": {},
   "source": [
    "# Get the gradient tensor by passing input to the `JacobianLayer` instance\n",
    "- you can see there are two outputs, first one is `y`, second one is `dy/dx`"
   ]
  },
  {
   "cell_type": "code",
   "execution_count": 7,
   "metadata": {},
   "outputs": [],
   "source": [
    "x_data = tf.random.uniform((10,4))\n",
    "y_pred, dydx = y_and_dydx_layer(x_data)"
   ]
  },
  {
   "cell_type": "markdown",
   "metadata": {},
   "source": [
    "## We can also verify the shape, it is `(batch_size, dim(y_chosen), dim(x_chosen))`"
   ]
  },
  {
   "cell_type": "code",
   "execution_count": 8,
   "metadata": {},
   "outputs": [
    {
     "name": "stdout",
     "output_type": "stream",
     "text": [
      "f(x) shape =  (10, 5)\n",
      "df(x)/dx shape =  (10, 5, 4)\n"
     ]
    }
   ],
   "source": [
    "print(\"f(x) shape = \", y_pred.shape)\n",
    "print(\"df(x)/dx shape = \", dydx.shape)"
   ]
  },
  {
   "cell_type": "markdown",
   "metadata": {},
   "source": [
    "# We can even compute Hessian, the second order partial derivatives, for any `keras.Model`"
   ]
  },
  {
   "cell_type": "code",
   "execution_count": 9,
   "metadata": {
    "pycharm": {
     "name": "#%%\n"
    }
   },
   "outputs": [],
   "source": [
    "y_and_dydx_and_dy2dx2_layer = HessianLayer(model, y_index, x_index)\n",
    "y_pred, dydx, dy2dx2 = y_and_dydx_and_dy2dx2_layer(x_data)"
   ]
  },
  {
   "cell_type": "markdown",
   "metadata": {},
   "source": [
    "## we can also verify the shape, it is `(batch_size, dim(y_chosen), dim(x_chosen), dim(x_chosen))`"
   ]
  },
  {
   "cell_type": "code",
   "execution_count": 10,
   "metadata": {},
   "outputs": [
    {
     "name": "stdout",
     "output_type": "stream",
     "text": [
      "d2f(x)/dx2 shape =  (10, 5, 4, 4)\n"
     ]
    }
   ],
   "source": [
    "print(\"d2f(x)/dx2 shape = \", dy2dx2.shape)"
   ]
  },
  {
   "cell_type": "markdown",
   "metadata": {},
   "source": [
    "# Why do we need this?\n",
    "\n",
    "- we have input $x,t$ and output $u(x,t)$ for typical spatial-temporal dynamics\n",
    "- when we are using PDE information, we need things like $\\partial{u}/\\partial{x} + \\partial{u}/\\partial{t}=0$\n",
    "- they can be embedded elegantly inside the `keras.Model` **in the form of layer regularization loss**."
   ]
  }
 ],
 "metadata": {
  "colab": {
   "collapsed_sections": [],
   "name": "4-get-gradients-by-wrapping-model-with-layer",
   "provenance": []
  },
  "kernelspec": {
   "display_name": "Python 3 with Fil",
   "language": "python",
   "name": "filprofile"
  },
  "language_info": {
   "codemirror_mode": {
    "name": "ipython",
    "version": 3
   },
   "file_extension": ".py",
   "mimetype": "text/x-python",
   "name": "python",
   "nbconvert_exporter": "python",
   "pygments_lexer": "ipython3",
   "version": "3.6.8"
  }
 },
 "nbformat": 4,
 "nbformat_minor": 1
}